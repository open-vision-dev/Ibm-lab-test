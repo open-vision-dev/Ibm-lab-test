{
 "cells": [
  {
   "cell_type": "markdown",
   "id": "fd5c5f25-5841-4313-bcb7-9b47940cf2a0",
   "metadata": {},
   "source": [
    "<h1>Datascience Tooks and Ecosystem "
   ]
  },
  {
   "cell_type": "markdown",
   "id": "74c62239-6ade-4690-b01d-b9f339bf58fc",
   "metadata": {},
   "source": [
    "<h3>in this notebooj we gonna introducd to a short road\n",
    "to learn essentials of datascience \n",
    "some popular lamguages using ds is:</h3>\n",
    "1.python\n",
    "2.julia\n",
    "3.jaba"
   ]
  },
  {
   "cell_type": "markdown",
   "id": "c1702c45-bf58-4714-89ad-e30d74492615",
   "metadata": {},
   "source": [
    "some of the libs used by scientists in datascience is :<ol>\n",
    "1.scikit learn\n",
    "2.Matplotlib\n",
    "3.keras\n",
    "4.pytorch\n",
    "5.seaborn no\n",
    "\n"
   ]
  },
  {
   "cell_type": "markdown",
   "id": "d052b309-ed93-4d69-8d62-5f822057b436",
   "metadata": {},
   "source": [
    "<h1>Datascience tools </h1>\n",
    "<li>1.Ibm watson stufio</li>\n",
    "2.R studio\n",
    "3.Weka no"
   ]
  },
  {
   "cell_type": "markdown",
   "id": "7ef59b48-9b46-4d3d-a0eb-b4b00aabe7b3",
   "metadata": {},
   "source": [
    "brlow are fee examples of evaluating arithmetic expressions"
   ]
  },
  {
   "cell_type": "code",
   "execution_count": 1,
   "id": "214a734e-ae20-4b44-ace8-4e84d5190db0",
   "metadata": {},
   "outputs": [
    {
     "data": {
      "text/plain": [
       "17"
      ]
     },
     "execution_count": 1,
     "metadata": {},
     "output_type": "execute_result"
    }
   ],
   "source": [
    "(3*4)+5"
   ]
  },
  {
   "cell_type": "markdown",
   "id": "c0bf2073-e82a-4875-8b39-6251c60c067e",
   "metadata": {},
   "source": [
    "this is simple expression for integers"
   ]
  },
  {
   "cell_type": "markdown",
   "id": "acbc2e22-87ba-4944-90ab-f8c89a7380d5",
   "metadata": {},
   "source": [
    "convert minutes to hours "
   ]
  },
  {
   "cell_type": "code",
   "execution_count": 2,
   "id": "23320e4b-d556-4c6d-915f-7297b4131d4e",
   "metadata": {},
   "outputs": [
    {
     "data": {
      "text/plain": [
       "3.3333333333333335"
      ]
     },
     "execution_count": 2,
     "metadata": {},
     "output_type": "execute_result"
    }
   ],
   "source": [
    "(200/60)"
   ]
  },
  {
   "cell_type": "code",
   "execution_count": null,
   "id": "bf4997b1-485d-46e3-9f8c-de1f584e9754",
   "metadata": {},
   "outputs": [],
   "source": []
  },
  {
   "cell_type": "markdown",
   "id": "086d39ad-4910-4d30-9aec-90843e5197dd",
   "metadata": {},
   "source": [
    "popular langs in datascience :\n",
    "<li>•python\n",
    "<li>scala</li>\n",
    "<li>c++</li>•"
   ]
  },
  {
   "cell_type": "markdown",
   "id": "9a5c88fd-0111-495e-b296-068c355cb325",
   "metadata": {},
   "source": [
    "<h1>Author </h2>\n",
    "ahmed "
   ]
  },
  {
   "cell_type": "code",
   "execution_count": null,
   "id": "3e2190c4-2607-4757-896d-4027bf4205f4",
   "metadata": {},
   "outputs": [],
   "source": []
  }
 ],
 "metadata": {
  "kernelspec": {
   "display_name": "Python 3 (ipykernel)",
   "language": "python",
   "name": "python3"
  },
  "language_info": {
   "codemirror_mode": {
    "name": "ipython",
    "version": 3
   },
   "file_extension": ".py",
   "mimetype": "text/x-python",
   "name": "python",
   "nbconvert_exporter": "python",
   "pygments_lexer": "ipython3",
   "version": "3.12.8"
  }
 },
 "nbformat": 4,
 "nbformat_minor": 5
}
